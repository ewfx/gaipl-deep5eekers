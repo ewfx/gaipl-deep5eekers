{
 "cells": [
  {
   "cell_type": "markdown",
   "id": "01af3848",
   "metadata": {
    "papermill": {
     "duration": 0.004415,
     "end_time": "2023-10-31T17:50:01.781590",
     "exception": false,
     "start_time": "2023-10-31T17:50:01.777175",
     "status": "completed"
    },
    "tags": []
   },
   "source": [
    "# Keyword Extraction\n",
    "Extracting key phrases from text"
   ]
  },
  {
   "cell_type": "code",
   "execution_count": 1,
   "id": "a1fb30b3-6905-443d-8fff-2b7ac053452f",
   "metadata": {
    "execution": {
     "iopub.execute_input": "2023-10-31T17:50:01.790088Z",
     "iopub.status.busy": "2023-10-31T17:50:01.789366Z",
     "iopub.status.idle": "2023-10-31T17:50:01.794685Z",
     "shell.execute_reply": "2023-10-31T17:50:01.793943Z"
    },
    "papermill": {
     "duration": 0.011654,
     "end_time": "2023-10-31T17:50:01.796887",
     "exception": false,
     "start_time": "2023-10-31T17:50:01.785233",
     "status": "completed"
    },
    "tags": []
   },
   "outputs": [],
   "source": [
    "# !pip install openai"
   ]
  },
  {
   "cell_type": "code",
   "execution_count": 2,
   "id": "539dfa1e",
   "metadata": {
    "execution": {
     "iopub.execute_input": "2023-10-31T17:50:01.803226Z",
     "iopub.status.busy": "2023-10-31T17:50:01.802918Z",
     "iopub.status.idle": "2023-10-31T17:50:01.929826Z",
     "shell.execute_reply": "2023-10-31T17:50:01.928664Z"
    },
    "papermill": {
     "duration": 0.132373,
     "end_time": "2023-10-31T17:50:01.931847",
     "exception": false,
     "start_time": "2023-10-31T17:50:01.799474",
     "status": "completed"
    },
    "tags": []
   },
   "outputs": [],
   "source": [
    "import openai\n",
    "import os"
   ]
  },
  {
   "cell_type": "code",
   "execution_count": 3,
   "id": "5700de69-b4a7-411a-8dfc-45e4ee0ed7f6",
   "metadata": {
    "execution": {
     "iopub.execute_input": "2023-10-31T17:50:01.937642Z",
     "iopub.status.busy": "2023-10-31T17:50:01.937333Z",
     "iopub.status.idle": "2023-10-31T17:50:01.942323Z",
     "shell.execute_reply": "2023-10-31T17:50:01.941484Z"
    },
    "papermill": {
     "duration": 0.009904,
     "end_time": "2023-10-31T17:50:01.944114",
     "exception": false,
     "start_time": "2023-10-31T17:50:01.934210",
     "status": "completed"
    },
    "tags": []
   },
   "outputs": [],
   "source": [
    "# A recommended way to store the key is in an environment variable. For this demo, I am storing in a file.\n",
    "key_location = '/Users/xavier/github/xmorera/ps-generative-ai-developing-applications-python-openai/key/genaikey.txt'\n",
    "# key_location = 'C:\\ps-gen-openai-python\\key\\genaikey.txt'\n",
    "\n",
    "with open(key_location, 'r') as file:\n",
    "    key = file.readline().strip()"
   ]
  },
  {
   "cell_type": "code",
   "execution_count": 4,
   "id": "93c0b226-f2eb-435e-8183-b386d59f2709",
   "metadata": {
    "execution": {
     "iopub.execute_input": "2023-10-31T17:50:01.949305Z",
     "iopub.status.busy": "2023-10-31T17:50:01.949051Z",
     "iopub.status.idle": "2023-10-31T17:50:01.952160Z",
     "shell.execute_reply": "2023-10-31T17:50:01.951554Z"
    },
    "papermill": {
     "duration": 0.007769,
     "end_time": "2023-10-31T17:50:01.954073",
     "exception": false,
     "start_time": "2023-10-31T17:50:01.946304",
     "status": "completed"
    },
    "tags": []
   },
   "outputs": [],
   "source": [
    "openai.api_key = key"
   ]
  },
  {
   "cell_type": "code",
   "execution_count": 5,
   "id": "537e02ff",
   "metadata": {
    "execution": {
     "iopub.execute_input": "2023-10-31T17:50:01.960107Z",
     "iopub.status.busy": "2023-10-31T17:50:01.959816Z",
     "iopub.status.idle": "2023-10-31T17:50:01.964624Z",
     "shell.execute_reply": "2023-10-31T17:50:01.963917Z"
    },
    "papermill": {
     "duration": 0.010346,
     "end_time": "2023-10-31T17:50:01.966548",
     "exception": false,
     "start_time": "2023-10-31T17:50:01.956202",
     "status": "completed"
    },
    "tags": []
   },
   "outputs": [],
   "source": [
    "def make_openai_request(prompt):\n",
    "    \"\"\"Takes a prompt as an argument and sends a POST request to the OpenAI API\"\"\"\n",
    "    response = openai.ChatCompletion.create(\n",
    "    model=\"gpt-3.5-turbo\",\n",
    "    messages=[{\"role\": \"user\",\"content\": prompt}],\n",
    "    temperature=0,\n",
    "    max_tokens=256\n",
    "    )\n",
    "\n",
    "    # Extract the generated labels from the API response\n",
    "    return response[\"choices\"][0][\"message\"][\"content\"].split(\"\\n\")"
   ]
  },
  {
   "cell_type": "code",
   "execution_count": 6,
   "id": "50f7896f",
   "metadata": {
    "execution": {
     "iopub.execute_input": "2023-10-31T17:50:01.972425Z",
     "iopub.status.busy": "2023-10-31T17:50:01.972133Z",
     "iopub.status.idle": "2023-10-31T17:50:01.975511Z",
     "shell.execute_reply": "2023-10-31T17:50:01.974848Z"
    },
    "papermill": {
     "duration": 0.008555,
     "end_time": "2023-10-31T17:50:01.977519",
     "exception": false,
     "start_time": "2023-10-31T17:50:01.968964",
     "status": "completed"
    },
    "tags": []
   },
   "outputs": [],
   "source": [
    "# Input text for keyword extraction\n",
    "input_text = \"\"\"\n",
    "A few years ago everyone was talking about Big Data. Then the \"Cloud\" came and revolutionized how we work. Next, IOT was a thing. Then Artifical Intelligence, Machine Learning, and Deep Learning came. Now it is all about Large Language Models.\n",
    "\"\"\""
   ]
  },
  {
   "cell_type": "code",
   "execution_count": 7,
   "id": "776053a1",
   "metadata": {
    "execution": {
     "iopub.execute_input": "2023-10-31T17:50:01.983063Z",
     "iopub.status.busy": "2023-10-31T17:50:01.982790Z",
     "iopub.status.idle": "2023-10-31T17:50:01.985797Z",
     "shell.execute_reply": "2023-10-31T17:50:01.985204Z"
    },
    "papermill": {
     "duration": 0.007911,
     "end_time": "2023-10-31T17:50:01.987697",
     "exception": false,
     "start_time": "2023-10-31T17:50:01.979786",
     "status": "completed"
    },
    "tags": []
   },
   "outputs": [],
   "source": [
    "prompt= f\"\"\"\n",
    "Extract keywords from the following text:\\n {input_text}\n",
    "\"\"\""
   ]
  },
  {
   "cell_type": "code",
   "execution_count": 8,
   "id": "04bba96d-4d8d-409e-a95f-a6a5df42ac75",
   "metadata": {
    "execution": {
     "iopub.execute_input": "2023-10-31T17:50:01.993658Z",
     "iopub.status.busy": "2023-10-31T17:50:01.993363Z",
     "iopub.status.idle": "2023-10-31T17:50:04.904983Z",
     "shell.execute_reply": "2023-10-31T17:50:04.903743Z"
    },
    "papermill": {
     "duration": 2.918114,
     "end_time": "2023-10-31T17:50:04.908043",
     "exception": false,
     "start_time": "2023-10-31T17:50:01.989929",
     "status": "completed"
    },
    "tags": []
   },
   "outputs": [],
   "source": [
    "keywords = make_openai_request(prompt)"
   ]
  },
  {
   "cell_type": "code",
   "execution_count": 9,
   "id": "e5cd5cd0-c24b-4ef0-8bbe-8bf47d42cbf3",
   "metadata": {
    "execution": {
     "iopub.execute_input": "2023-10-31T17:50:04.916910Z",
     "iopub.status.busy": "2023-10-31T17:50:04.916546Z",
     "iopub.status.idle": "2023-10-31T17:50:04.920887Z",
     "shell.execute_reply": "2023-10-31T17:50:04.920140Z"
    },
    "papermill": {
     "duration": 0.010916,
     "end_time": "2023-10-31T17:50:04.923379",
     "exception": false,
     "start_time": "2023-10-31T17:50:04.912463",
     "status": "completed"
    },
    "tags": []
   },
   "outputs": [
    {
     "name": "stdout",
     "output_type": "stream",
     "text": [
      "['Big Data, Cloud, revolutionized, work, IOT, Artificial Intelligence, Machine Learning, Deep Learning, Large Language Models']\n"
     ]
    }
   ],
   "source": [
    "# Use the OpenAI API for for keyword extraction\n",
    "print(keywords)"
   ]
  }
 ],
 "metadata": {
  "kernelspec": {
   "display_name": "Python 3 (ipykernel)",
   "language": "python",
   "name": "python3"
  },
  "language_info": {
   "codemirror_mode": {
    "name": "ipython",
    "version": 3
   },
   "file_extension": ".py",
   "mimetype": "text/x-python",
   "name": "python",
   "nbconvert_exporter": "python",
   "pygments_lexer": "ipython3",
   "version": "3.9.1"
  },
  "papermill": {
   "default_parameters": {},
   "duration": 4.355619,
   "end_time": "2023-10-31T17:50:05.150778",
   "environment_variables": {},
   "exception": null,
   "input_path": "m6/05-keyword-extraction/keyword-extraction.ipynb",
   "output_path": "m6/05-keyword-extraction/keyword-extraction.ipynb",
   "parameters": {},
   "start_time": "2023-10-31T17:50:00.795159",
   "version": "2.4.0"
  }
 },
 "nbformat": 4,
 "nbformat_minor": 5
}