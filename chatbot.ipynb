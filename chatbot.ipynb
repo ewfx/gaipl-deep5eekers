{
 "cells": [
  {
   "cell_type": "markdown",
   "id": "c02ac822-b2ce-4a79-bdad-2bb1ec31a4f1",
   "metadata": {
    "papermill": {
     "duration": 0.003866,
     "end_time": "2023-10-31T17:50:46.390608",
     "exception": false,
     "start_time": "2023-10-31T17:50:46.386742",
     "status": "completed"
    },
    "tags": []
   },
   "source": [
    "# Chatbot\n",
    "Creating a basic chatbot with the OpenAI API"
   ]
  },
  {
   "cell_type": "code",
   "execution_count": 1,
   "id": "e2065a3e-c3e1-496a-bf99-1cd7efa121f5",
   "metadata": {
    "papermill": {
     "duration": 0.010698,
     "end_time": "2023-10-31T17:50:46.404939",
     "exception": false,
     "start_time": "2023-10-31T17:50:46.394241",
     "status": "completed"
    },
    "tags": []
   },
   "outputs": [],
   "source": [
    "# !pip install openai"
   ]
  },
  {
   "cell_type": "code",
   "execution_count": 2,
   "id": "989c2bfb-6ae5-4f61-bc43-3850c5b66428",
   "metadata": {
    "papermill": {
     "duration": 0.143048,
     "end_time": "2023-10-31T17:50:46.550046",
     "exception": false,
     "start_time": "2023-10-31T17:50:46.406998",
     "status": "completed"
    },
    "tags": []
   },
   "outputs": [],
   "source": [
    "import openai\n",
    "import os"
   ]
  },
  {
   "cell_type": "code",
   "execution_count": 3,
   "id": "1f955318-bdf2-4f0d-95fa-5c15fec3cd87",
   "metadata": {
    "papermill": {
     "duration": 0.009677,
     "end_time": "2023-10-31T17:50:46.562237",
     "exception": false,
     "start_time": "2023-10-31T17:50:46.552560",
     "status": "completed"
    },
    "tags": []
   },
   "outputs": [],
   "source": [
    "key_location = '/Users/xavier/github/xmorera/ps-generative-ai-developing-applications-python-openai/key/genaikey.txt'\n",
    "\n",
    "with open(key_location, 'r') as file:\n",
    "    key = file.readline().strip()"
   ]
  },
  {
   "cell_type": "code",
   "execution_count": 4,
   "id": "88b50b0d-f996-418b-9821-3b180fc049c0",
   "metadata": {
    "papermill": {
     "duration": 0.008006,
     "end_time": "2023-10-31T17:50:46.572205",
     "exception": false,
     "start_time": "2023-10-31T17:50:46.564199",
     "status": "completed"
    },
    "tags": []
   },
   "outputs": [],
   "source": [
    "openai.api_key = key"
   ]
  },
  {
   "cell_type": "code",
   "execution_count": 5,
   "id": "0ba3af38-4bca-4349-87f9-05c318e5c0f1",
   "metadata": {
    "papermill": {
     "duration": 0.009565,
     "end_time": "2023-10-31T17:50:46.583711",
     "exception": false,
     "start_time": "2023-10-31T17:50:46.574146",
     "status": "completed"
    },
    "tags": []
   },
   "outputs": [],
   "source": [
    "def process_chat_request(prompt):\n",
    "    \"\"\"Takes a prompt as an argument and sends a POST request to the OpenAI API\"\"\"\n",
    "    response = openai.ChatCompletion.create(\n",
    "    model=\"gpt-3.5-turbo\",\n",
    "    messages=[{\"role\": \"user\",\"content\": prompt}],\n",
    "    temperature=0.7\n",
    "    )\n",
    "\n",
    "    # Extract the generated labels from the API response\n",
    "    return response[\"choices\"][0][\"message\"][\"content\"] "
   ]
  },
  {
   "cell_type": "code",
   "execution_count": 6,
   "id": "d2930154-e0aa-447f-858a-b0123ffe5bdd",
   "metadata": {
    "papermill": {
     "duration": 0.008404,
     "end_time": "2023-10-31T17:50:46.593989",
     "exception": false,
     "start_time": "2023-10-31T17:50:46.585585",
     "status": "completed"
    },
    "tags": []
   },
   "outputs": [
    {
     "name": "stdout",
     "output_type": "stream",
     "text": [
      "Hello and welcome to the Good Advice Chatbot! How can I help you?\n"
     ]
    }
   ],
   "source": [
    "print(\"Hello and welcome to the Good Advice Chatbot! How can I help you?\")"
   ]
  },
  {
   "cell_type": "code",
   "execution_count": 7,
   "id": "4193948b-7a66-44ce-ba25-9a7da6b3843b",
   "metadata": {
    "papermill": {
     "duration": 0.350504,
     "end_time": "2023-10-31T17:50:46.946544",
     "exception": true,
     "start_time": "2023-10-31T17:50:46.596040",
     "status": "failed"
    },
    "tags": []
   },
   "outputs": [
    {
     "name": "stdout",
     "output_type": "stream",
     "text": [
      "User: \n"
     ]
    },
    {
     "name": "stdin",
     "output_type": "stream",
     "text": [
      " My name is Xavier\n"
     ]
    },
    {
     "name": "stdout",
     "output_type": "stream",
     "text": [
      "Chatbot: Hello Xavier! How can I assist you today?\n",
      "User: \n"
     ]
    },
    {
     "name": "stdin",
     "output_type": "stream",
     "text": [
      " What is my name?\n"
     ]
    },
    {
     "name": "stdout",
     "output_type": "stream",
     "text": [
      "Chatbot: I apologize, but I don't have access to personal information about individuals unless it has been shared with me in the course of our conversation.\n",
      "User: \n"
     ]
    },
    {
     "name": "stdin",
     "output_type": "stream",
     "text": [
      " bye\n"
     ]
    },
    {
     "name": "stdout",
     "output_type": "stream",
     "text": [
      "Chatbot: Goodbye! Take care!\n"
     ]
    }
   ],
   "source": [
    "while True:\n",
    "    print(\"User: \")\n",
    "    user_prompt = input()\n",
    "    response = process_chat_request(user_prompt)\n",
    "    print(\"Chatbot: \" + response)\n",
    "    \n",
    "    if user_prompt.lower() in [\"bye\", \"exit\", \"quit\"]:\n",
    "            break"
   ]
  }
 ],
 "metadata": {
  "kernelspec": {
   "display_name": "Python 3 (ipykernel)",
   "language": "python",
   "name": "python3"
  },
  "language_info": {
   "codemirror_mode": {
    "name": "ipython",
    "version": 3
   },
   "file_extension": ".py",
   "mimetype": "text/x-python",
   "name": "python",
   "nbconvert_exporter": "python",
   "pygments_lexer": "ipython3",
   "version": "3.9.1"
  },
  "papermill": {
   "default_parameters": {},
   "duration": 1.662521,
   "end_time": "2023-10-31T17:50:47.171442",
   "environment_variables": {},
   "exception": true,
   "input_path": "m7/01-chatbot/chatbot.ipynb",
   "output_path": "m7/01-chatbot/chatbot.ipynb",
   "parameters": {},
   "start_time": "2023-10-31T17:50:45.508921",
   "version": "2.4.0"
  }
 },
 "nbformat": 4,
 "nbformat_minor": 5
}
