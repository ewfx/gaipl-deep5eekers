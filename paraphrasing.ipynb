{
 "cells": [
  {
   "cell_type": "markdown",
   "id": "01af3848",
   "metadata": {
    "papermill": {
     "duration": 0.004494,
     "end_time": "2023-10-31T17:50:35.454832",
     "exception": false,
     "start_time": "2023-10-31T17:50:35.450338",
     "status": "completed"
    },
    "tags": []
   },
   "source": [
    "# Paraphrasing\n",
    "## Rewriting Text While Preserving Its Meaning"
   ]
  },
  {
   "cell_type": "code",
   "execution_count": 1,
   "id": "04082d56-16e3-4a32-817d-e7be4d73df25",
   "metadata": {
    "execution": {
     "iopub.execute_input": "2023-10-31T17:50:35.463231Z",
     "iopub.status.busy": "2023-10-31T17:50:35.462886Z",
     "iopub.status.idle": "2023-10-31T17:50:35.467579Z",
     "shell.execute_reply": "2023-10-31T17:50:35.466801Z"
    },
    "papermill": {
     "duration": 0.011131,
     "end_time": "2023-10-31T17:50:35.469881",
     "exception": false,
     "start_time": "2023-10-31T17:50:35.458750",
     "status": "completed"
    },
    "tags": []
   },
   "outputs": [],
   "source": [
    "# !pip install openai"
   ]
  },
  {
   "cell_type": "code",
   "execution_count": 2,
   "id": "539dfa1e",
   "metadata": {
    "execution": {
     "iopub.execute_input": "2023-10-31T17:50:35.476382Z",
     "iopub.status.busy": "2023-10-31T17:50:35.476056Z",
     "iopub.status.idle": "2023-10-31T17:50:35.604026Z",
     "shell.execute_reply": "2023-10-31T17:50:35.603366Z"
    },
    "papermill": {
     "duration": 0.133544,
     "end_time": "2023-10-31T17:50:35.606001",
     "exception": false,
     "start_time": "2023-10-31T17:50:35.472457",
     "status": "completed"
    },
    "tags": []
   },
   "outputs": [],
   "source": [
    "import openai\n",
    "import os"
   ]
  },
  {
   "cell_type": "code",
   "execution_count": 3,
   "id": "794299ea-ac9d-4aa3-8e42-587703cf029c",
   "metadata": {
    "execution": {
     "iopub.execute_input": "2023-10-31T17:50:35.612146Z",
     "iopub.status.busy": "2023-10-31T17:50:35.611850Z",
     "iopub.status.idle": "2023-10-31T17:50:35.615620Z",
     "shell.execute_reply": "2023-10-31T17:50:35.615032Z"
    },
    "papermill": {
     "duration": 0.008776,
     "end_time": "2023-10-31T17:50:35.617562",
     "exception": false,
     "start_time": "2023-10-31T17:50:35.608786",
     "status": "completed"
    },
    "tags": []
   },
   "outputs": [],
   "source": [
    "# A recommended way to store the key is in an environment variable. For this demo, I am storing in a file.\n",
    "key_location = '/Users/xavier/github/xmorera/ps-generative-ai-developing-applications-python-openai/key/genaikey.txt'\n",
    "# key_location = 'C:\\ps-gen-openai-python\\key\\genaikey.txt'\n",
    "\n",
    "with open(key_location, 'r') as file:\n",
    "    key = file.readline().strip()"
   ]
  },
  {
   "cell_type": "code",
   "execution_count": 4,
   "id": "eafafe06-5e09-4cb5-8510-c6baa30543d0",
   "metadata": {
    "execution": {
     "iopub.execute_input": "2023-10-31T17:50:35.623358Z",
     "iopub.status.busy": "2023-10-31T17:50:35.623094Z",
     "iopub.status.idle": "2023-10-31T17:50:35.626249Z",
     "shell.execute_reply": "2023-10-31T17:50:35.625604Z"
    },
    "papermill": {
     "duration": 0.008365,
     "end_time": "2023-10-31T17:50:35.628182",
     "exception": false,
     "start_time": "2023-10-31T17:50:35.619817",
     "status": "completed"
    },
    "tags": []
   },
   "outputs": [],
   "source": [
    "# OpenAI API key\n",
    "openai.api_key = key"
   ]
  },
  {
   "cell_type": "code",
   "execution_count": 5,
   "id": "537e02ff",
   "metadata": {
    "execution": {
     "iopub.execute_input": "2023-10-31T17:50:35.633566Z",
     "iopub.status.busy": "2023-10-31T17:50:35.633316Z",
     "iopub.status.idle": "2023-10-31T17:50:35.637566Z",
     "shell.execute_reply": "2023-10-31T17:50:35.637056Z"
    },
    "papermill": {
     "duration": 0.008937,
     "end_time": "2023-10-31T17:50:35.639309",
     "exception": false,
     "start_time": "2023-10-31T17:50:35.630372",
     "status": "completed"
    },
    "tags": []
   },
   "outputs": [],
   "source": [
    "def make_openai_request(prompt):\n",
    "    \"\"\"Takes a prompt as an argument and sends a POST request to the OpenAI API\"\"\"\n",
    "    response = openai.ChatCompletion.create(\n",
    "    model=\"gpt-3.5-turbo\",\n",
    "    messages=[{\"role\": \"user\",\"content\": prompt}],\n",
    "    temperature=0,\n",
    "    max_tokens=256\n",
    "    )\n",
    "\n",
    "    # Extract the generated labels from the API response\n",
    "    return response[\"choices\"][0][\"message\"][\"content\"].split(\"\\n\")"
   ]
  },
  {
   "cell_type": "code",
   "execution_count": 6,
   "id": "50f7896f",
   "metadata": {
    "execution": {
     "iopub.execute_input": "2023-10-31T17:50:35.644036Z",
     "iopub.status.busy": "2023-10-31T17:50:35.643819Z",
     "iopub.status.idle": "2023-10-31T17:50:35.646791Z",
     "shell.execute_reply": "2023-10-31T17:50:35.646285Z"
    },
    "papermill": {
     "duration": 0.007392,
     "end_time": "2023-10-31T17:50:35.648437",
     "exception": false,
     "start_time": "2023-10-31T17:50:35.641045",
     "status": "completed"
    },
    "tags": []
   },
   "outputs": [],
   "source": [
    "input_text = \"\"\"\n",
    "Xavier Morera is currently working as fast as he can to create this course, because he is very close to the deadline.\n",
    "\"\"\""
   ]
  },
  {
   "cell_type": "code",
   "execution_count": 7,
   "id": "776053a1",
   "metadata": {
    "execution": {
     "iopub.execute_input": "2023-10-31T17:50:35.652881Z",
     "iopub.status.busy": "2023-10-31T17:50:35.652670Z",
     "iopub.status.idle": "2023-10-31T17:50:35.655319Z",
     "shell.execute_reply": "2023-10-31T17:50:35.654709Z"
    },
    "papermill": {
     "duration": 0.006779,
     "end_time": "2023-10-31T17:50:35.656922",
     "exception": false,
     "start_time": "2023-10-31T17:50:35.650143",
     "status": "completed"
    },
    "tags": []
   },
   "outputs": [],
   "source": [
    "prompt=\"Paraphrase the following sentence using pirate language while maintaining its core meaning:\\n\" + input_text\n",
    "\n",
    "# Try asking something like \"in a funny way\" and see what happens"
   ]
  },
  {
   "cell_type": "code",
   "execution_count": 8,
   "id": "bf5209d6-8a04-449e-8f22-8a084866d6ef",
   "metadata": {
    "execution": {
     "iopub.execute_input": "2023-10-31T17:50:35.661334Z",
     "iopub.status.busy": "2023-10-31T17:50:35.661128Z",
     "iopub.status.idle": "2023-10-31T17:50:43.560884Z",
     "shell.execute_reply": "2023-10-31T17:50:43.559842Z"
    },
    "papermill": {
     "duration": 7.905062,
     "end_time": "2023-10-31T17:50:43.563659",
     "exception": false,
     "start_time": "2023-10-31T17:50:35.658597",
     "status": "completed"
    },
    "tags": []
   },
   "outputs": [],
   "source": [
    "paraphrase = make_openai_request(prompt)"
   ]
  },
  {
   "cell_type": "code",
   "execution_count": 9,
   "id": "da43006b-1d62-475b-abc7-7bd17200682e",
   "metadata": {
    "execution": {
     "iopub.execute_input": "2023-10-31T17:50:43.571627Z",
     "iopub.status.busy": "2023-10-31T17:50:43.571287Z",
     "iopub.status.idle": "2023-10-31T17:50:43.575689Z",
     "shell.execute_reply": "2023-10-31T17:50:43.575007Z"
    },
    "papermill": {
     "duration": 0.01078,
     "end_time": "2023-10-31T17:50:43.577937",
     "exception": false,
     "start_time": "2023-10-31T17:50:43.567157",
     "status": "completed"
    },
    "tags": []
   },
   "outputs": [
    {
     "name": "stdout",
     "output_type": "stream",
     "text": [
      "[\"Xavier Morera be currently workin' as fast as he can to create this course, matey, 'cause he be sailin' mighty close to the deadline.\"]\n"
     ]
    }
   ],
   "source": [
    "print(paraphrase)"
   ]
  }
 ],
 "metadata": {
  "kernelspec": {
   "display_name": "Python 3 (ipykernel)",
   "language": "python",
   "name": "python3"
  },
  "language_info": {
   "codemirror_mode": {
    "name": "ipython",
    "version": 3
   },
   "file_extension": ".py",
   "mimetype": "text/x-python",
   "name": "python",
   "nbconvert_exporter": "python",
   "pygments_lexer": "ipython3",
   "version": "3.9.1"
  },
  "papermill": {
   "default_parameters": {},
   "duration": 9.348544,
   "end_time": "2023-10-31T17:50:43.803375",
   "environment_variables": {},
   "exception": null,
   "input_path": "m6/08-paraphrasing/paraphrasing.ipynb",
   "output_path": "m6/08-paraphrasing/paraphrasing.ipynb",
   "parameters": {},
   "start_time": "2023-10-31T17:50:34.454831",
   "version": "2.4.0"
  }
 },
 "nbformat": 4,
 "nbformat_minor": 5
}