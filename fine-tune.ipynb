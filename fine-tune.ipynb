{
 "cells": [
  {
   "cell_type": "markdown",
   "id": "39d70890-917f-45e4-84d7-ade107d2698c",
   "metadata": {
    "papermill": {
     "duration": 0.004262,
     "end_time": "2023-10-31T17:50:44.694694",
     "exception": false,
     "start_time": "2023-10-31T17:50:44.690432",
     "status": "completed"
    },
    "tags": []
   },
   "source": [
    "# Fine Tune\n",
    "Training an existing GPT model to specialize or adapt to a task or specific domain"
   ]
  },
  {
   "cell_type": "code",
   "execution_count": 1,
   "id": "229d5276-3f00-4306-be27-86b19968bb3f",
   "metadata": {
    "papermill": {
     "duration": 0.137955,
     "end_time": "2023-10-31T17:50:44.836303",
     "exception": false,
     "start_time": "2023-10-31T17:50:44.698348",
     "status": "completed"
    },
    "tags": []
   },
   "outputs": [],
   "source": [
    "import os\n",
    "import openai\n",
    "import requests"
   ]
  },
  {
   "cell_type": "code",
   "execution_count": 2,
   "id": "4bc0f0e9-c0bc-4349-929b-3511aa5d5ffa",
   "metadata": {
    "papermill": {
     "duration": 0.009142,
     "end_time": "2023-10-31T17:50:44.847935",
     "exception": false,
     "start_time": "2023-10-31T17:50:44.838793",
     "status": "completed"
    },
    "tags": []
   },
   "outputs": [],
   "source": [
    "key_location = '/Users/xavier/github/xmorera/ps-generative-ai-developing-applications-python-openai/key/genaikey.txt'\n",
    "\n",
    "with open(key_location, 'r') as file:\n",
    "    key = file.readline().strip()\n",
    "\n",
    "openai.api_key = key"
   ]
  },
  {
   "cell_type": "code",
   "execution_count": 3,
   "id": "7fe529db-b239-406a-8d0b-35996625c724",
   "metadata": {
    "papermill": {
     "duration": 0.010424,
     "end_time": "2023-10-31T17:50:44.860836",
     "exception": false,
     "start_time": "2023-10-31T17:50:44.850412",
     "status": "completed"
    },
    "tags": []
   },
   "outputs": [],
   "source": [
    "def upload_file(file:str):\n",
    "    \"\"\"Takes a prompt as an argument and sends a POST request to the OpenAI API\"\"\"\n",
    "    url = \"https://api.openai.com/v1/files\"\n",
    "    headers = { 'Authorization': f'Bearer {key}' }\n",
    "    data = { \"purpose\": \"fine-tune\" }\n",
    "    files = { \"file\": open(file, \"rb\") }\n",
    "    response = requests.post(url, headers=headers, data=data, files=files, timeout=20)\n",
    "    if response.status_code == 200:\n",
    "        result = response.json()\n",
    "        return result\n",
    "    print('Request failed with status code:', response.status_code)\n",
    "    return None\n"
   ]
  },
  {
   "cell_type": "code",
   "execution_count": 4,
   "id": "cfa9db29-9609-46b2-a943-efe92646fc05",
   "metadata": {
    "papermill": {
     "duration": 0.008878,
     "end_time": "2023-10-31T17:50:44.872689",
     "exception": false,
     "start_time": "2023-10-31T17:50:44.863811",
     "status": "completed"
    },
    "tags": []
   },
   "outputs": [],
   "source": [
    "def fine_tuning_model(file_id):\n",
    "    \"\"\"Fine Tunes a model using a jsonl file\"\"\"\n",
    "    url = \"https://api.openai.com/v1/fine_tuning/jobs\"\n",
    "    headers = {\n",
    "        'Content-Type': 'application/json',\n",
    "        'Authorization': f'Bearer {key}'\n",
    "    }\n",
    "    data = { \"training_file\": file_id, \"model\": \"gpt-3.5-turbo\" }\n",
    "    response = requests.post(url, headers=headers, json=data, timeout=20)\n",
    "    if response.status_code == 200:\n",
    "        result = response.json()\n",
    "        return result\n",
    "    print('Request failed with status code:', response.status_code)\n",
    "    return None"
   ]
  },
  {
   "cell_type": "code",
   "execution_count": 5,
   "id": "6a53f576-416d-4f71-b6b7-84ce17bb3d04",
   "metadata": {
    "papermill": {
     "duration": 0.008607,
     "end_time": "2023-10-31T17:50:44.883082",
     "exception": false,
     "start_time": "2023-10-31T17:50:44.874475",
     "status": "completed"
    },
    "tags": []
   },
   "outputs": [],
   "source": [
    "def retrieve_fine_tuning(fine_tune_id):\n",
    "    \"\"\"Retrieves a Fine Tune Model\"\"\"\n",
    "    url = f\"https://api.openai.com/v1/fine_tuning/jobs/{fine_tune_id}\"\n",
    "    headers = {\n",
    "        'Authorization': f'Bearer {key}'\n",
    "    }\n",
    "    response = requests.get(url, headers=headers, timeout=20)\n",
    "    if response.status_code == 200:\n",
    "        result = response.json()\n",
    "        return result\n",
    "    print('Request failed with status code:', response.status_code)\n",
    "    return None"
   ]
  },
  {
   "cell_type": "code",
   "execution_count": 6,
   "id": "457d6ed1-7e71-4890-98cd-0e0c9ec98ae2",
   "metadata": {
    "papermill": {
     "duration": 0.383365,
     "end_time": "2023-10-31T17:50:45.268352",
     "exception": true,
     "start_time": "2023-10-31T17:50:44.884987",
     "status": "failed"
    },
    "tags": []
   },
   "outputs": [],
   "source": [
    "upload_result = upload_file(\"./data.jsonl\")\n",
    "uploaded_file_id = upload_result[\"id\"]"
   ]
  },
  {
   "cell_type": "code",
   "execution_count": 7,
   "id": "3290122f-3e5e-4540-9fc5-070bed8c5f0c",
   "metadata": {
    "papermill": {
     "duration": null,
     "end_time": null,
     "exception": null,
     "start_time": null,
     "status": "pending"
    },
    "tags": []
   },
   "outputs": [
    {
     "name": "stdout",
     "output_type": "stream",
     "text": [
      "{\"messages\": [{\"role\": \"system\", \"content\": \"Abbi is a travel agent chatbot.\"}, {\"role\": \"user\", \"content\": \"Where should I travel in 2023? What are the best destinations to visit?\"}, {\"role\": \"assistant\", \"content\": \"Here are some fantastic travel destinations for 2023: Poland, Western Australia, Liverpool in England, Charleston in South Carolina, Vilnius in Lithuania, Fiji, Manaus in Brazil, Thessaloniki in Greece, Rwanda, Gothenburg in Sweden, Ras al-Khaimah in the United Arab Emirates, Laos, Gruyères in Switzerland, Minneapolis in Minnesota, Mustang Valley in Nepal, Tanzania, Cairo in Egypt, Naoshima in Japan, Belize, Oaxaca in Mexico, Ottawa in Canada, and Uganda.\"}]}\n",
      "{\"messages\": [{\"role\": \"system\", \"content\": \"Abbi is a travel agent chatbot.\"}, {\"role\": \"user\", \"content\": \"Tell me about the attractions in Poland. What can I explore there?\"}, {\"role\": \"assistant\", \"content\": \"Poland offers a diverse range of attractions. From the historic main square in Krakow to its beautiful forests, lakes, and mountains, Poland invites exploration. You can also discover new openings like Hotel Verte, a luxurious Autograph Collection property in Warsaw. However, the real reason to visit Poland in 2023 is to show solidarity with a country that has taken in Ukrainian refugees and overcome various challenges. Whether you're interested in exploring cities like Krakow, Warsaw, or Gdansk, or you prefer the tranquility of the countryside, Poland has something for every traveler.\"}]}\n",
      "{\"messages\": [{\"role\": \"system\", \"content\": \"Abbi is a travel agent chatbot.\"}, {\"role\": \"user\", \"content\": \"What makes Western Australia an appealing travel destination?\"}, {\"role\": \"assistant\", \"content\": \"Western Australia offers a unique travel experience. In addition to the stunning landscape, the region recently witnessed a rare total solar eclipse visible over the Ningaloo Peninsula. The state stretches from Perth across deserts like the Great Victoria and Great Sandy, to wine country in Margaret River, the dramatic cliffs of the Kimberley, and Rottnest Island. Whether you're interested in witnessing natural wonders, enjoying outdoor activities, or experiencing cultural festivals, Western Australia has it all.\"}]}\n",
      "{\"messages\": [{\"role\": \"system\", \"content\": \"Abbi is a travel agent chatbot.\"}, {\"role\": \"user\", \"content\": \"Why should I consider visiting Liverpool, England in 2023?\"}, {\"role\": \"assistant\", \"content\": \"Liverpool, known as the birthplace of The Beatles, has much to offer in 2023. It is the host city of Eurovision, a spangly song extravaganza that brings fans from across Europe. The city is bouncing back after losing its UNESCO World Heritage status in 2021 and is celebrating 25 years of the Liverpool Biennial contemporary arts festival. As part of the Year of the Coast, you can explore the city's beaches and enjoy artistic installations like Antony Gormley's 'Another Place' sculpture at Crosby Beach.\"}]}\n",
      "{\"messages\": [{\"role\": \"system\", \"content\": \"Abbi is a travel agent chatbot.\"}, {\"role\": \"user\", \"content\": \"What are the best travel destinations in 2023?\"}, {\"role\": \"assistant\", \"content\": \"Some of the best travel destinations in 2023 include: Japan, Italy, Portugal, Greece, Croatia, Costa Rica, Thailand, Vietnam, Iceland, Peru, South Africa, Canada, Australia\"}]}\n",
      "{\"messages\": [{\"role\": \"system\", \"content\": \"Abbi is a travel agent chatbot.\"}, {\"role\": \"user\", \"content\": \"Which one is the most amazing and why?\"}, {\"role\": \"assistant\", \"content\": \"That's a tough question, as there are many amazing travel destinations in the world. However, some of the most popular and amazing destinations include: Machu Picchu, Peru: This ancient Inca city is one of the most popular tourist destinations in the world, and for good reason. It's a truly awe-inspiring sight. The Great Barrier Reef, Australia: The Great Barrier Reef is the largest coral reef system in the world, and it's home to an incredible diversity of marine life. The Grand Canyon, USA: The Grand Canyon is one of the most iconic natural wonders in the world, and it's a must-see for any visitor to the United States. The Taj Mahal, India: The Taj Mahal is a stunning white marble mausoleum that is widely considered to be one of the most beautiful buildings in the world. The Colosseum, Italy: The Colosseum is an ancient amphitheater that was once used for gladiatorial contests and other public spectacles. It's one of the most popular tourist attractions in Rome.\"}]}\n",
      "{\"messages\": [{\"role\": \"system\", \"content\": \"Abbi is a travel agent chatbot.\"}, {\"role\": \"user\", \"content\": \"Which ones are the most visited?\"}, {\"role\": \"assistant\", \"content\": \"According to a recent study, the most visited travel destinations in the world are: Bangkok, Thailand, London, England, Paris, France, New York City, USA, Tokyo, Japan, Rome, Italy, Barcelona, Spain, Istanbul, Turkey, Dubai, United Arab Emirates, Singapore\"}]}\n",
      "{\"messages\": [{\"role\": \"system\", \"content\": \"Abbi is a travel agent chatbot.\"}, {\"role\": \"user\", \"content\": \"Which ones are the cheapest?\"}, {\"role\": \"assistant\", \"content\": \"Some of the cheapest travel destinations in the world include: Vietnam, Thailand, Cambodia, Laos, Myanmar, India, Nepal, Sri Lanka, Malaysia, Indonesia\"}]}\n",
      "{\"messages\": [{\"role\": \"system\", \"content\": \"Abbi is a travel agent chatbot.\"}, {\"role\": \"user\", \"content\": \"What are some tips for planning a trip in 2023?\"}, {\"role\": \"assistant\", \"content\": \"Here are a few tips for planning a trip in 2023: Start planning early. The earlier you start planning, the more likely you are to get the best deals on flights and accommodation. Be flexible with your dates. If you're able to be flexible with your travel dates, you'll have more options and be more likely to find deals. Consider traveling during the off-season. Traveling during the off-season can save you money on flights and accommodation, and you'll also likely experience fewer crowds. Do your research. Before you book anything, be sure to do your research and read reviews of different travel destinations and companies. Get travel insurance. Travel insurance can protect you in case of unexpected events, such as flight cancellations or illness.\"}]}\n",
      "{\"messages\": [{\"role\": \"system\", \"content\": \"Abbi is a travel agent chatbot.\"}, {\"role\": \"user\", \"content\": \" What are some of the best airlines to fly with in 2023?\"}, {\"role\": \"assistant\", \"content\": \"Some of the best airlines to fly with in 2023 include: Qatar Airways, Emirates, Singapore Airlines, ANA All Nippon Airways, Cathay Pacific, Lufthansa, Etihad Airways, Turkish Airlines, Qantas, British Airways\"}]}\n",
      "{\"messages\": [{\"role\": \"system\", \"content\": \"Abbi is a travel agent chatbot.\"}, {\"role\": \"user\", \"content\": \"What are some of the best foods to try when traveling in 2023?\"}, {\"role\": \"assistant\", \"content\": \"Some of the best foods to try when traveling in 2023 include: Sushi in Japan, Pizza in Italy, Paella in Spain, Pad Thai in Thailand, Falafel in Israel, Tacos in Mexico, Pho in Vietnam, Curry in India, Jerk Chicken in Jamaica, Peking Duck in China\"}]}\n",
      "{\"messages\": [{\"role\": \"system\", \"content\": \"Abbi is a travel agent chatbot.\"}, {\"role\": \"user\", \"content\": \"What are some of the best activities to do when traveling in 2023?\"}, {\"role\": \"assistant\", \"content\": \"Some of the best activities to do when traveling in 2023 include: Hiking in the mountains, Swimming in the ocean, Visiting museums, Going to concerts, Attending sporting events, Exploring different cultures, Learning new languages, Meeting new people, Making memories that will last a lifetime.\"}]}\n",
      "{\"messages\": [{\"role\": \"system\", \"content\": \"Abbi is a travel agent chatbot.\"}, {\"role\": \"user\", \"content\": \"What to include in your luggage when traveling?\"}, {\"role\": \"assistant\", \"content\": \"Clothes that are comfortable and appropriate for the climate you're traveling to. A swimsuit if you're planning on swimming. A hat and sunglasses to protect yourself from the sun. A first-aid kit. A pair of comfortable walking shoes. A camera to capture your memories. A journal to write down your thoughts and experiences. \"}]}\n",
      "{\"messages\": [{\"role\": \"system\", \"content\": \"Abbi is a travel agent chatbot.\"}, {\"role\": \"user\", \"content\": \"Do you have some tips when navigating airports?\"}, {\"role\": \"assistant\", \"content\": \"Arrive early. This will give you plenty of time to check in, go through security, and find your gate. Be prepared to show your ID and boarding pass at multiple checkpoints. Follow the signs. The airport is a big place, so it's easy to get lost. Just follow the signs and you'll be sure to find your way. Be patient. Things can get crowded and hectic in airports, so it's important to be patient. Enjoy the experience. Airports can be a great place to people-watch and see the world. So take some time to relax and enjoy the experience.\"}]}\n",
      "\n"
     ]
    }
   ],
   "source": [
    "with open(\"./data.jsonl\") as f: # The with keyword automatically closes the file when you are done\n",
    "   print(f.read())"
   ]
  },
  {
   "cell_type": "code",
   "execution_count": 8,
   "id": "b73efe5a-7b66-4cfd-adfb-4eb2e0277e45",
   "metadata": {
    "papermill": {
     "duration": null,
     "end_time": null,
     "exception": null,
     "start_time": null,
     "status": "pending"
    },
    "tags": []
   },
   "outputs": [],
   "source": [
    "fine_tune_model_result = fine_tuning_model(uploaded_file_id) \n",
    "\n",
    "fine_tune_model_id = fine_tune_model_result[\"id\"]"
   ]
  },
  {
   "cell_type": "code",
   "execution_count": null,
   "id": "f9cf05c9-bb86-4293-9319-3a7b7782ec9c",
   "metadata": {
    "papermill": {
     "duration": null,
     "end_time": null,
     "exception": null,
     "start_time": null,
     "status": "pending"
    },
    "tags": []
   },
   "outputs": [],
   "source": [
    "fine_tuned_model = \"\"\n",
    "\n",
    "while True:\n",
    "    fine_tune_object = retrieve_fine_tuning(fine_tune_model_id)\n",
    "    if fine_tune_object[\"status\"] == \"succeeded\":\n",
    "        fine_tuned_model = fine_tune_object[\"fine_tuned_model\"]\n",
    "        break"
   ]
  },
  {
   "cell_type": "code",
   "execution_count": null,
   "id": "5d2d5f89-bab8-4e7e-8f81-bc4fbecea959",
   "metadata": {
    "papermill": {
     "duration": null,
     "end_time": null,
     "exception": null,
     "start_time": null,
     "status": "pending"
    },
    "tags": []
   },
   "outputs": [],
   "source": [
    "print(str(fine_tuned_model)) "
   ]
  },
  {
   "cell_type": "code",
   "execution_count": null,
   "id": "85869c30-2d02-4a22-b3b0-f92b435de6f6",
   "metadata": {
    "papermill": {
     "duration": null,
     "end_time": null,
     "exception": null,
     "start_time": null,
     "status": "pending"
    },
    "tags": []
   },
   "outputs": [],
   "source": [
    "completion_response = openai.ChatCompletion.create(\n",
    "model=fine_tuned_model,\n",
    "messages=[\n",
    "    {\"role\": \"system\", \"content\": \"Abbi is a travel agent chatbot.\"},\n",
    "    {\"role\": \"user\", \"content\": \"Where should I travel in 2023?\"}\n",
    "]\n",
    ")\n",
    "\n",
    "print(completion_response)"
   ]
  }
 ],
 "metadata": {
  "kernelspec": {
   "display_name": "Python 3 (ipykernel)",
   "language": "python",
   "name": "python3"
  },
  "language_info": {
   "codemirror_mode": {
    "name": "ipython",
    "version": 3
   },
   "file_extension": ".py",
   "mimetype": "text/x-python",
   "name": "python",
   "nbconvert_exporter": "python",
   "pygments_lexer": "ipython3",
   "version": "3.9.1"
  },
  "papermill": {
   "default_parameters": {},
   "duration": 1.678938,
   "end_time": "2023-10-31T17:50:45.494960",
   "environment_variables": {},
   "exception": true,
   "input_path": "m7/02-fine-tuning/fine-tune.ipynb",
   "output_path": "m7/02-fine-tuning/fine-tune.ipynb",
   "parameters": {},
   "start_time": "2023-10-31T17:50:43.816022",
   "version": "2.4.0"
  }
 },
 "nbformat": 4,
 "nbformat_minor": 5
}
