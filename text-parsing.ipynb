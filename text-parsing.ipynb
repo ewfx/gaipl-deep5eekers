{
 "cells": [
  {
   "cell_type": "markdown",
   "id": "01af3848",
   "metadata": {
    "papermill": {
     "duration": 0.004411,
     "end_time": "2023-10-31T17:50:10.373691",
     "exception": false,
     "start_time": "2023-10-31T17:50:10.369280",
     "status": "completed"
    },
    "tags": []
   },
   "source": [
    "# Text Parsing\n",
    "Breaking down text into its grammatical components"
   ]
  },
  {
   "cell_type": "code",
   "execution_count": 1,
   "id": "e68d1a88-db15-4b3b-a4a8-8ab3e50872b7",
   "metadata": {
    "execution": {
     "iopub.execute_input": "2023-10-31T17:50:10.382506Z",
     "iopub.status.busy": "2023-10-31T17:50:10.381864Z",
     "iopub.status.idle": "2023-10-31T17:50:10.386720Z",
     "shell.execute_reply": "2023-10-31T17:50:10.386001Z"
    },
    "papermill": {
     "duration": 0.011235,
     "end_time": "2023-10-31T17:50:10.389028",
     "exception": false,
     "start_time": "2023-10-31T17:50:10.377793",
     "status": "completed"
    },
    "tags": []
   },
   "outputs": [],
   "source": [
    "# !pip install openai"
   ]
  },
  {
   "cell_type": "code",
   "execution_count": 2,
   "id": "539dfa1e",
   "metadata": {
    "execution": {
     "iopub.execute_input": "2023-10-31T17:50:10.396160Z",
     "iopub.status.busy": "2023-10-31T17:50:10.395828Z",
     "iopub.status.idle": "2023-10-31T17:50:10.548458Z",
     "shell.execute_reply": "2023-10-31T17:50:10.547593Z"
    },
    "papermill": {
     "duration": 0.158781,
     "end_time": "2023-10-31T17:50:10.550676",
     "exception": false,
     "start_time": "2023-10-31T17:50:10.391895",
     "status": "completed"
    },
    "tags": []
   },
   "outputs": [],
   "source": [
    "import openai\n",
    "import os"
   ]
  },
  {
   "cell_type": "code",
   "execution_count": 3,
   "id": "5a6bb999-1242-4517-9942-0c07790ef96e",
   "metadata": {
    "execution": {
     "iopub.execute_input": "2023-10-31T17:50:10.557467Z",
     "iopub.status.busy": "2023-10-31T17:50:10.557081Z",
     "iopub.status.idle": "2023-10-31T17:50:10.561505Z",
     "shell.execute_reply": "2023-10-31T17:50:10.560846Z"
    },
    "papermill": {
     "duration": 0.009982,
     "end_time": "2023-10-31T17:50:10.563624",
     "exception": false,
     "start_time": "2023-10-31T17:50:10.553642",
     "status": "completed"
    },
    "tags": []
   },
   "outputs": [],
   "source": [
    "# A recommended way to store the key is in an environment variable. For this demo, I am storing in a file.\n",
    "key_location = '/Users/xavier/github/xmorera/ps-generative-ai-developing-applications-python-openai/key/genaikey.txt'\n",
    "# key_location = 'C:\\ps-gen-openai-python\\key\\genaikey.txt'\n",
    "\n",
    "with open(key_location, 'r') as file:\n",
    "    key = file.readline().strip()"
   ]
  },
  {
   "cell_type": "code",
   "execution_count": 4,
   "id": "1f72ae0c-1cc6-45ca-a6a5-d699b72c8bfd",
   "metadata": {
    "execution": {
     "iopub.execute_input": "2023-10-31T17:50:10.569494Z",
     "iopub.status.busy": "2023-10-31T17:50:10.569194Z",
     "iopub.status.idle": "2023-10-31T17:50:10.572497Z",
     "shell.execute_reply": "2023-10-31T17:50:10.571872Z"
    },
    "papermill": {
     "duration": 0.008695,
     "end_time": "2023-10-31T17:50:10.574577",
     "exception": false,
     "start_time": "2023-10-31T17:50:10.565882",
     "status": "completed"
    },
    "tags": []
   },
   "outputs": [],
   "source": [
    "# OpenAI API key\n",
    "openai.api_key = key"
   ]
  },
  {
   "cell_type": "code",
   "execution_count": 5,
   "id": "537e02ff",
   "metadata": {
    "execution": {
     "iopub.execute_input": "2023-10-31T17:50:10.580200Z",
     "iopub.status.busy": "2023-10-31T17:50:10.579933Z",
     "iopub.status.idle": "2023-10-31T17:50:10.584651Z",
     "shell.execute_reply": "2023-10-31T17:50:10.584074Z"
    },
    "papermill": {
     "duration": 0.009732,
     "end_time": "2023-10-31T17:50:10.586554",
     "exception": false,
     "start_time": "2023-10-31T17:50:10.576822",
     "status": "completed"
    },
    "tags": []
   },
   "outputs": [],
   "source": [
    "def make_openai_request(prompt):\n",
    "    \"\"\"Takes a prompt as an argument and sends a POST request to the OpenAI API\"\"\"\n",
    "    response = openai.ChatCompletion.create(\n",
    "    model=\"gpt-3.5-turbo\",\n",
    "    messages=[{\"role\": \"user\",\"content\": prompt}],\n",
    "    temperature=0,\n",
    "    max_tokens=256\n",
    "    )\n",
    "\n",
    "    # Extract the generated labels from the API response\n",
    "    return response[\"choices\"][0][\"message\"][\"content\"].split(\"\\n\")"
   ]
  },
  {
   "cell_type": "code",
   "execution_count": 6,
   "id": "50f7896f",
   "metadata": {
    "execution": {
     "iopub.execute_input": "2023-10-31T17:50:10.592209Z",
     "iopub.status.busy": "2023-10-31T17:50:10.591911Z",
     "iopub.status.idle": "2023-10-31T17:50:10.595322Z",
     "shell.execute_reply": "2023-10-31T17:50:10.594628Z"
    },
    "papermill": {
     "duration": 0.008536,
     "end_time": "2023-10-31T17:50:10.597179",
     "exception": false,
     "start_time": "2023-10-31T17:50:10.588643",
     "status": "completed"
    },
    "tags": []
   },
   "outputs": [],
   "source": [
    "input_text = \"\"\"\n",
    "Xavier Morera is currently working as fast as he can to create this course, because he is very close to the deadline.\n",
    "\"\"\""
   ]
  },
  {
   "cell_type": "code",
   "execution_count": 7,
   "id": "776053a1",
   "metadata": {
    "execution": {
     "iopub.execute_input": "2023-10-31T17:50:10.602713Z",
     "iopub.status.busy": "2023-10-31T17:50:10.602466Z",
     "iopub.status.idle": "2023-10-31T17:50:10.605647Z",
     "shell.execute_reply": "2023-10-31T17:50:10.605003Z"
    },
    "papermill": {
     "duration": 0.008121,
     "end_time": "2023-10-31T17:50:10.607426",
     "exception": false,
     "start_time": "2023-10-31T17:50:10.599305",
     "status": "completed"
    },
    "tags": []
   },
   "outputs": [],
   "source": [
    "prompt=\"Parse the grammatical components of the following sentence:\\n\" + input_text"
   ]
  },
  {
   "cell_type": "code",
   "execution_count": 8,
   "id": "dde35cf5-98a9-4d9b-9a8d-09c35d85767c",
   "metadata": {
    "execution": {
     "iopub.execute_input": "2023-10-31T17:50:10.612231Z",
     "iopub.status.busy": "2023-10-31T17:50:10.611990Z",
     "iopub.status.idle": "2023-10-31T17:50:17.173379Z",
     "shell.execute_reply": "2023-10-31T17:50:17.172485Z"
    },
    "papermill": {
     "duration": 6.566897,
     "end_time": "2023-10-31T17:50:17.176246",
     "exception": false,
     "start_time": "2023-10-31T17:50:10.609349",
     "status": "completed"
    },
    "tags": []
   },
   "outputs": [
    {
     "name": "stdout",
     "output_type": "stream",
     "text": [
      "['Subject: Xavier Morera', 'Verb: is working', 'Adverb: currently', 'Prepositional phrase: as fast as he can', 'Infinitive phrase: to create this course', 'Conjunction: because', 'Subject: he', 'Verb: is', 'Adverb: very', 'Adjective: close', 'Prepositional phrase: to the deadline.']\n"
     ]
    }
   ],
   "source": [
    "print(make_openai_request(prompt))"
   ]
  }
 ],
 "metadata": {
  "kernelspec": {
   "display_name": "Python 3 (ipykernel)",
   "language": "python",
   "name": "python3"
  },
  "language_info": {
   "codemirror_mode": {
    "name": "ipython",
    "version": 3
   },
   "file_extension": ".py",
   "mimetype": "text/x-python",
   "name": "python",
   "nbconvert_exporter": "python",
   "pygments_lexer": "ipython3",
   "version": "3.9.1"
  },
  "papermill": {
   "default_parameters": {},
   "duration": 8.061786,
   "end_time": "2023-10-31T17:50:17.403375",
   "environment_variables": {},
   "exception": null,
   "input_path": "m6/07-text-parsing/text-parsing.ipynb",
   "output_path": "m6/07-text-parsing/text-parsing.ipynb",
   "parameters": {},
   "start_time": "2023-10-31T17:50:09.341589",
   "version": "2.4.0"
  }
 },
 "nbformat": 4,
 "nbformat_minor": 5
}