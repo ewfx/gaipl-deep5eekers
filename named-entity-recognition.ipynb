{
 "cells": [
  {
   "cell_type": "markdown",
   "id": "01af3848",
   "metadata": {
    "papermill": {
     "duration": 0.004891,
     "end_time": "2023-10-31T17:50:06.073671",
     "exception": false,
     "start_time": "2023-10-31T17:50:06.068780",
     "status": "completed"
    },
    "tags": []
   },
   "source": [
    "# Named Entity Recognition (NER)\n",
    "Identifying entities like names, dates, and locations"
   ]
  },
  {
   "cell_type": "code",
   "execution_count": 1,
   "id": "926d7a87-9e80-4d17-b676-9346d4c09561",
   "metadata": {
    "execution": {
     "iopub.execute_input": "2023-10-31T17:50:06.081946Z",
     "iopub.status.busy": "2023-10-31T17:50:06.081346Z",
     "iopub.status.idle": "2023-10-31T17:50:06.086249Z",
     "shell.execute_reply": "2023-10-31T17:50:06.085466Z"
    },
    "papermill": {
     "duration": 0.011,
     "end_time": "2023-10-31T17:50:06.088467",
     "exception": false,
     "start_time": "2023-10-31T17:50:06.077467",
     "status": "completed"
    },
    "tags": []
   },
   "outputs": [],
   "source": [
    "# !pip install openai"
   ]
  },
  {
   "cell_type": "code",
   "execution_count": 2,
   "id": "539dfa1e",
   "metadata": {
    "execution": {
     "iopub.execute_input": "2023-10-31T17:50:06.095388Z",
     "iopub.status.busy": "2023-10-31T17:50:06.094997Z",
     "iopub.status.idle": "2023-10-31T17:50:06.230396Z",
     "shell.execute_reply": "2023-10-31T17:50:06.229700Z"
    },
    "papermill": {
     "duration": 0.141114,
     "end_time": "2023-10-31T17:50:06.232289",
     "exception": false,
     "start_time": "2023-10-31T17:50:06.091175",
     "status": "completed"
    },
    "tags": []
   },
   "outputs": [],
   "source": [
    "import openai\n",
    "import os"
   ]
  },
  {
   "cell_type": "code",
   "execution_count": 3,
   "id": "60c9bf5c-8f96-4991-9dca-23517dbad001",
   "metadata": {
    "execution": {
     "iopub.execute_input": "2023-10-31T17:50:06.238296Z",
     "iopub.status.busy": "2023-10-31T17:50:06.237947Z",
     "iopub.status.idle": "2023-10-31T17:50:06.242738Z",
     "shell.execute_reply": "2023-10-31T17:50:06.241845Z"
    },
    "papermill": {
     "duration": 0.010273,
     "end_time": "2023-10-31T17:50:06.245007",
     "exception": false,
     "start_time": "2023-10-31T17:50:06.234734",
     "status": "completed"
    },
    "tags": []
   },
   "outputs": [],
   "source": [
    "# A recommended way to store the key is in an environment variable. For this demo, I am storing in a file.\n",
    "key_location = '/Users/xavier/github/xmorera/ps-generative-ai-developing-applications-python-openai/key/genaikey.txt'\n",
    "# key_location = 'C:\\ps-gen-openai-python\\key\\genaikey.txt'\n",
    "\n",
    "with open(key_location, 'r') as file:\n",
    "    key = file.readline().strip()"
   ]
  },
  {
   "cell_type": "code",
   "execution_count": 4,
   "id": "a29674c5-a093-447a-8200-a7fb0dee1539",
   "metadata": {
    "execution": {
     "iopub.execute_input": "2023-10-31T17:50:06.250499Z",
     "iopub.status.busy": "2023-10-31T17:50:06.250213Z",
     "iopub.status.idle": "2023-10-31T17:50:06.253621Z",
     "shell.execute_reply": "2023-10-31T17:50:06.252814Z"
    },
    "papermill": {
     "duration": 0.008353,
     "end_time": "2023-10-31T17:50:06.255506",
     "exception": false,
     "start_time": "2023-10-31T17:50:06.247153",
     "status": "completed"
    },
    "tags": []
   },
   "outputs": [],
   "source": [
    "openai.api_key = key"
   ]
  },
  {
   "cell_type": "code",
   "execution_count": 5,
   "id": "537e02ff",
   "metadata": {
    "execution": {
     "iopub.execute_input": "2023-10-31T17:50:06.260936Z",
     "iopub.status.busy": "2023-10-31T17:50:06.260656Z",
     "iopub.status.idle": "2023-10-31T17:50:06.265232Z",
     "shell.execute_reply": "2023-10-31T17:50:06.264619Z"
    },
    "papermill": {
     "duration": 0.00966,
     "end_time": "2023-10-31T17:50:06.267190",
     "exception": false,
     "start_time": "2023-10-31T17:50:06.257530",
     "status": "completed"
    },
    "tags": []
   },
   "outputs": [],
   "source": [
    "def make_openai_request(prompt):\n",
    "    \"\"\"Takes a prompt as an argument and sends a POST request to the OpenAI API\"\"\"\n",
    "    response = openai.ChatCompletion.create(\n",
    "    model=\"gpt-3.5-turbo\",\n",
    "    messages=[{\"role\": \"user\",\"content\": prompt}],\n",
    "    temperature=0,\n",
    "    max_tokens=256\n",
    "    )\n",
    "\n",
    "    # Extract the generated labels from the API response\n",
    "    return response[\"choices\"][0][\"message\"][\"content\"].split(\"\\n\")"
   ]
  },
  {
   "cell_type": "code",
   "execution_count": 6,
   "id": "50f7896f",
   "metadata": {
    "execution": {
     "iopub.execute_input": "2023-10-31T17:50:06.272604Z",
     "iopub.status.busy": "2023-10-31T17:50:06.272326Z",
     "iopub.status.idle": "2023-10-31T17:50:06.275577Z",
     "shell.execute_reply": "2023-10-31T17:50:06.274884Z"
    },
    "papermill": {
     "duration": 0.008251,
     "end_time": "2023-10-31T17:50:06.277678",
     "exception": false,
     "start_time": "2023-10-31T17:50:06.269427",
     "status": "completed"
    },
    "tags": []
   },
   "outputs": [],
   "source": [
    "# Input text for NER\n",
    "input_text = \"\"\"\n",
    "Xavier Morera is a Pluralsight author. He has been creating courses since October 2013. He lives in Costa Rica.\n",
    "\"\"\""
   ]
  },
  {
   "cell_type": "code",
   "execution_count": 7,
   "id": "776053a1",
   "metadata": {
    "execution": {
     "iopub.execute_input": "2023-10-31T17:50:06.283066Z",
     "iopub.status.busy": "2023-10-31T17:50:06.282781Z",
     "iopub.status.idle": "2023-10-31T17:50:09.100951Z",
     "shell.execute_reply": "2023-10-31T17:50:09.100112Z"
    },
    "papermill": {
     "duration": 2.823679,
     "end_time": "2023-10-31T17:50:09.103482",
     "exception": false,
     "start_time": "2023-10-31T17:50:06.279803",
     "status": "completed"
    },
    "tags": []
   },
   "outputs": [
    {
     "name": "stdout",
     "output_type": "stream",
     "text": [
      "['PERSON: Xavier Morera', 'ORGANIZATION: Pluralsight', 'DATE: October 2013', 'LOCATION: Costa Rica']\n"
     ]
    }
   ],
   "source": [
    "prompt= f\"\"\"\n",
    "Perform named entity recognition on the following text:\\n {input_text}\n",
    "\"\"\"\n",
    "\n",
    "# Use the OpenAI API for Named Entity Recognition (NER)\n",
    "print(make_openai_request(prompt))"
   ]
  }
 ],
 "metadata": {
  "kernelspec": {
   "display_name": "Python 3 (ipykernel)",
   "language": "python",
   "name": "python3"
  },
  "language_info": {
   "codemirror_mode": {
    "name": "ipython",
    "version": 3
   },
   "file_extension": ".py",
   "mimetype": "text/x-python",
   "name": "python",
   "nbconvert_exporter": "python",
   "pygments_lexer": "ipython3",
   "version": "3.9.1"
  },
  "papermill": {
   "default_parameters": {},
   "duration": 4.168114,
   "end_time": "2023-10-31T17:50:09.330693",
   "environment_variables": {},
   "exception": null,
   "input_path": "m6/04-named-entity-recognition/named-entity-recognition.ipynb",
   "output_path": "m6/04-named-entity-recognition/named-entity-recognition.ipynb",
   "parameters": {},
   "start_time": "2023-10-31T17:50:05.162579",
   "version": "2.4.0"
  }
 },
 "nbformat": 4,
 "nbformat_minor": 5
}
